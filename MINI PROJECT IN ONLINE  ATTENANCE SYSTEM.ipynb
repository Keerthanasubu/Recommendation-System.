{
 "cells": [
  {
   "cell_type": "markdown",
   "id": "a5f67a8f-1b0f-48aa-9596-743e501bb637",
   "metadata": {},
   "source": [
    "#                                         ONLINE ATTENDENCE SYSTEM"
   ]
  },
  {
   "cell_type": "markdown",
   "id": "1f8ecfe6-97a2-4844-844f-982d8af1ac8a",
   "metadata": {},
   "source": [
    "An online attendance system is a web-based application that enables users to track and manage attendance records remotely. It provides a convenient and efficient way for organizations, educational institutions, or businesses to monitor the presence of individuals in various settings, such as classrooms, meetings, or events."
   ]
  },
  {
   "cell_type": "markdown",
   "id": "078db3e7-1a55-4457-8436-d589854c70dc",
   "metadata": {},
   "source": [
    "# PROGRAM"
   ]
  },
  {
   "cell_type": "code",
   "execution_count": null,
   "id": "4043040a-9239-4af8-8869-36214278c79d",
   "metadata": {},
   "outputs": [],
   "source": [
    "class Student:\n",
    "    def __init__(self, name):\n",
    "        self.name = name\n",
    "        self.present = False  # Initially all students are marked as absent\n",
    "\n",
    "class AttendanceSystem:\n",
    "    def __init__(self):\n",
    "        self.students = []\n",
    "\n",
    "    def add_student(self, name):\n",
    "        self.students.append(Student(name))\n",
    "\n",
    "    def mark_attendance(self, name):\n",
    "        for student in self.students:\n",
    "            if student.name == name:\n",
    "                student.present = True\n",
    "                print(f\"{name} is marked present.\")\n",
    "                return\n",
    "        print(\"Student not found.\")\n",
    "\n",
    "    def display_attendance(self):\n",
    "        print(\"Attendance Status:\")\n",
    "        for student in self.students:\n",
    "            print(f\"{student.name}: {'Present' if student.present else 'Absent'}\")\n",
    "\n",
    "def main():\n",
    "    attendance_system = AttendanceSystem()\n",
    "\n",
    "    num_students = int(input(\"Enter number of students: \"))\n",
    "    for _ in range(num_students):\n",
    "        name = input(\"Enter name of student: \")\n",
    "        attendance_system.add_student(name)\n",
    "\n",
    "    while True:\n",
    "        print(\"\\nMenu:\")\n",
    "        print(\"1. Mark Attendance\")\n",
    "        print(\"2. Display Attendance\")\n",
    "        print(\"3. Exit\")\n",
    "        choice = input(\"Enter your choice: \")\n",
    "\n",
    "        if choice == '1':\n",
    "            name = input(\"Enter student's name: \")\n",
    "            attendance_system.mark_attendance(name)\n",
    "        elif choice == '2':\n",
    "            attendance_system.display_attendance()\n",
    "        elif choice == '3':\n",
    "            print(\"Exiting...\")\n",
    "            break\n",
    "        else:\n",
    "            print(\"Invalid choice. Please try again.\")\n",
    "\n",
    "if __name__ == \"__main__\":\n",
    "    main()\n"
   ]
  }
 ],
 "metadata": {
  "kernelspec": {
   "display_name": "Python 3 (ipykernel)",
   "language": "python",
   "name": "python3"
  },
  "language_info": {
   "codemirror_mode": {
    "name": "ipython",
    "version": 3
   },
   "file_extension": ".py",
   "mimetype": "text/x-python",
   "name": "python",
   "nbconvert_exporter": "python",
   "pygments_lexer": "ipython3",
   "version": "3.12.1"
  }
 },
 "nbformat": 4,
 "nbformat_minor": 5
}
